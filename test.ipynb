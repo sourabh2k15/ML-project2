{
 "cells": [
  {
   "cell_type": "code",
   "execution_count": 30,
   "metadata": {},
   "outputs": [
    {
     "name": "stdout",
     "output_type": "stream",
     "text": [
      "120.034928 s\n"
     ]
    },
    {
     "data": {
      "text/plain": [
       "array([0, 0, 0, 0, 0, 0, 0, 0, 0, 0, 0, 0, 0, 0, 0, 0, 0, 0, 0, 0, 0, 0, 0,\n",
       "       0, 0, 0, 0, 0, 0, 0, 0, 0, 0, 0, 0, 0, 0, 0, 0, 0, 0, 0, 0, 0, 0, 0,\n",
       "       0, 0, 0, 0, 1, 1, 1, 1, 1, 1, 1, 1, 1, 1, 1, 1, 1, 1, 1, 1, 1, 1, 1,\n",
       "       1, 2, 1, 1, 1, 1, 1, 1, 1, 1, 1, 1, 1, 1, 2, 1, 1, 1, 1, 1, 1, 1, 1,\n",
       "       1, 1, 1, 1, 1, 1, 1, 1, 2, 2, 2, 2, 2, 2, 2, 2, 2, 2, 2, 2, 2, 2, 2,\n",
       "       2, 2, 2, 2, 2, 2, 2, 2, 2, 2, 2, 2, 2, 2, 2, 2, 2, 2, 1, 2, 2, 2, 2,\n",
       "       2, 2, 2, 2, 2, 2, 2, 2, 2, 2, 2, 2])"
      ]
     },
     "execution_count": 30,
     "metadata": {},
     "output_type": "execute_result"
    }
   ],
   "source": [
    "# RVM experiments\n",
    "\n",
    "from skrvm import RVC\n",
    "from sklearn.datasets import load_iris\n",
    "import time\n",
    "\n",
    "iris = load_iris()\n",
    "\n",
    "clf = RVC(n_iter = 1000, tol = 1e-2)\n",
    "\n",
    "start = time.clock()\n",
    "\n",
    "clf.fit(iris.data, iris.target)\n",
    "print time.clock() - start, \"s\"\n",
    "\n",
    "clf.predict(iris.data)"
   ]
  },
  {
   "cell_type": "code",
   "execution_count": 26,
   "metadata": {},
   "outputs": [
    {
     "name": "stdout",
     "output_type": "stream",
     "text": [
      "[LibSVM][[ 0.36360724  0.36067362  0.27571915]]\n"
     ]
    },
    {
     "data": {
      "text/plain": [
       "{'C': 1.0,\n",
       " 'cache_size': 200,\n",
       " 'class_weight': None,\n",
       " 'coef0': 0.0,\n",
       " 'decision_function_shape': 'ovo',\n",
       " 'degree': 3,\n",
       " 'gamma': 'auto',\n",
       " 'kernel': 'rbf',\n",
       " 'max_iter': -1,\n",
       " 'probability': True,\n",
       " 'random_state': None,\n",
       " 'shrinking': True,\n",
       " 'tol': 0.001,\n",
       " 'verbose': True}"
      ]
     },
     "execution_count": 26,
     "metadata": {},
     "output_type": "execute_result"
    }
   ],
   "source": [
    "import numpy as np\n",
    "from sklearn import svm\n",
    "\n",
    "X = [[0, 0], [1, 1], [0, 1]]\n",
    "y = [0, 1, 2]\n",
    "\n",
    "clf = svm.SVC(decision_function_shape='ovo', probability=True, verbose=True)\n",
    "clf.fit(X, y)  \n",
    "\n",
    "\n",
    "print clf.predict(np.reshape([0, 1], (1, 2)))\n",
    "clf.get_params()"
   ]
  },
  {
   "cell_type": "code",
   "execution_count": 25,
   "metadata": {},
   "outputs": [
    {
     "name": "stdout",
     "output_type": "stream",
     "text": [
      "Iteration: 0\n",
      "Alpha: [ 0.0026137  0.0026137]\n",
      "Beta: 0.000419015313797\n",
      "Gamma: [ 0.70288612  0.70288612]\n",
      "m: [-16.39889778  16.39889772]\n",
      "Relevance Vectors: 2\n",
      "()\n",
      "Iteration: 1\n",
      "Alpha: [ 0.02523908  0.0252391 ]\n",
      "Beta: 0.0130270474264\n",
      "Gamma: [ 0.86355463  0.86355483]\n",
      "m: [-5.84935736  5.84935572]\n",
      "Relevance Vectors: 2\n",
      "()\n",
      "Iteration: 2\n",
      "Alpha: [ 0.07926598  0.07926599]\n",
      "Beta: 0.100780665098\n",
      "Gamma: [ 0.76055639  0.76055627]\n",
      "m: [-3.09757823  3.09757796]\n",
      "Relevance Vectors: 2\n",
      "()\n",
      "Iteration: 0\n",
      "Alpha: [  1.21950290e-03   1.21930932e-03   7.58797750e+05]\n",
      "Beta: 0.00056621623736\n",
      "Gamma: [ 0.73483277  0.73478895  0.435104  ]\n",
      "m: [ -2.45472495e+01   2.45484661e+01   7.57239952e-04]\n",
      "Relevance Vectors: 2\n",
      "()\n",
      "Iteration: 1\n",
      "Alpha: [ 0.01080596  0.01080611]\n",
      "Beta: 0.0126666448408\n",
      "Gamma: [ 0.87907889  0.87909546]\n",
      "m: [-9.01949373  9.0195182 ]\n",
      "Relevance Vectors: 2\n",
      "()\n",
      "Iteration: 2\n",
      "Alpha: [ 0.03449424  0.03449417]\n",
      "Beta: 0.095400694228\n",
      "Gamma: [ 0.79279797  0.7927956 ]\n",
      "m: [-4.79410953  4.79410734]\n",
      "Relevance Vectors: 2\n",
      "()\n",
      "Iteration: 0\n",
      "Alpha: [  1.21950290e-03   1.21930932e-03   7.58797750e+05]\n",
      "Beta: 0.00056621623736\n",
      "Gamma: [ 0.73483277  0.73478895  0.435104  ]\n",
      "m: [ -2.45472495e+01   2.45484661e+01   7.57239952e-04]\n",
      "Relevance Vectors: 2\n",
      "()\n",
      "Iteration: 1\n",
      "Alpha: [ 0.01080596  0.01080611]\n",
      "Beta: 0.0126666448408\n",
      "Gamma: [ 0.87907889  0.87909546]\n",
      "m: [-9.01949373  9.0195182 ]\n",
      "Relevance Vectors: 2\n",
      "()\n",
      "Iteration: 2\n",
      "Alpha: [ 0.03449424  0.03449417]\n",
      "Beta: 0.095400694228\n",
      "Gamma: [ 0.79279797  0.7927956 ]\n",
      "m: [-4.79410953  4.79410734]\n",
      "Relevance Vectors: 2\n",
      "()\n"
     ]
    },
    {
     "ename": "AttributeError",
     "evalue": "'RVC' object has no attribute 'relevance_'",
     "output_type": "error",
     "traceback": [
      "\u001b[0;31m---------------------------------------------------------------------------\u001b[0m",
      "\u001b[0;31mAttributeError\u001b[0m                            Traceback (most recent call last)",
      "\u001b[0;32m<ipython-input-25-ed56a357081c>\u001b[0m in \u001b[0;36m<module>\u001b[0;34m()\u001b[0m\n\u001b[1;32m      9\u001b[0m \u001b[0;34m\u001b[0m\u001b[0m\n\u001b[1;32m     10\u001b[0m \u001b[0mclf\u001b[0m\u001b[0;34m.\u001b[0m\u001b[0mget_params\u001b[0m\u001b[0;34m(\u001b[0m\u001b[0;34m)\u001b[0m\u001b[0;34m\u001b[0m\u001b[0m\n\u001b[0;32m---> 11\u001b[0;31m \u001b[0;32mprint\u001b[0m \u001b[0mclf\u001b[0m\u001b[0;34m.\u001b[0m\u001b[0mpredict_proba\u001b[0m\u001b[0;34m(\u001b[0m\u001b[0mnp\u001b[0m\u001b[0;34m.\u001b[0m\u001b[0mreshape\u001b[0m\u001b[0;34m(\u001b[0m\u001b[0;34m[\u001b[0m\u001b[0;36m0\u001b[0m\u001b[0;34m,\u001b[0m \u001b[0;36m1\u001b[0m\u001b[0;34m]\u001b[0m\u001b[0;34m,\u001b[0m \u001b[0;34m(\u001b[0m\u001b[0;36m1\u001b[0m\u001b[0;34m,\u001b[0m \u001b[0;36m2\u001b[0m\u001b[0;34m)\u001b[0m\u001b[0;34m)\u001b[0m\u001b[0;34m)\u001b[0m\u001b[0;34m\u001b[0m\u001b[0m\n\u001b[0m",
      "\u001b[0;32m/home/humble_learner/anaconda2/lib/python2.7/site-packages/skrvm/rvm.pyc\u001b[0m in \u001b[0;36mpredict_proba\u001b[0;34m(self, X)\u001b[0m\n\u001b[1;32m    286\u001b[0m     \u001b[0;32mdef\u001b[0m \u001b[0mpredict_proba\u001b[0m\u001b[0;34m(\u001b[0m\u001b[0mself\u001b[0m\u001b[0;34m,\u001b[0m \u001b[0mX\u001b[0m\u001b[0;34m)\u001b[0m\u001b[0;34m:\u001b[0m\u001b[0;34m\u001b[0m\u001b[0m\n\u001b[1;32m    287\u001b[0m         \u001b[0;34m\"\"\"Return an array of class probabilities.\"\"\"\u001b[0m\u001b[0;34m\u001b[0m\u001b[0m\n\u001b[0;32m--> 288\u001b[0;31m         \u001b[0mphi\u001b[0m \u001b[0;34m=\u001b[0m \u001b[0mself\u001b[0m\u001b[0;34m.\u001b[0m\u001b[0m_apply_kernel\u001b[0m\u001b[0;34m(\u001b[0m\u001b[0mX\u001b[0m\u001b[0;34m,\u001b[0m \u001b[0mself\u001b[0m\u001b[0;34m.\u001b[0m\u001b[0mrelevance_\u001b[0m\u001b[0;34m)\u001b[0m\u001b[0;34m\u001b[0m\u001b[0m\n\u001b[0m\u001b[1;32m    289\u001b[0m         \u001b[0my\u001b[0m \u001b[0;34m=\u001b[0m \u001b[0mself\u001b[0m\u001b[0;34m.\u001b[0m\u001b[0m_classify\u001b[0m\u001b[0;34m(\u001b[0m\u001b[0mself\u001b[0m\u001b[0;34m.\u001b[0m\u001b[0mm_\u001b[0m\u001b[0;34m,\u001b[0m \u001b[0mphi\u001b[0m\u001b[0;34m)\u001b[0m\u001b[0;34m\u001b[0m\u001b[0m\n\u001b[1;32m    290\u001b[0m         \u001b[0;32mreturn\u001b[0m \u001b[0mnp\u001b[0m\u001b[0;34m.\u001b[0m\u001b[0mcolumn_stack\u001b[0m\u001b[0;34m(\u001b[0m\u001b[0;34m(\u001b[0m\u001b[0;36m1\u001b[0m\u001b[0;34m-\u001b[0m\u001b[0my\u001b[0m\u001b[0;34m,\u001b[0m \u001b[0my\u001b[0m\u001b[0;34m)\u001b[0m\u001b[0;34m)\u001b[0m\u001b[0;34m\u001b[0m\u001b[0m\n",
      "\u001b[0;31mAttributeError\u001b[0m: 'RVC' object has no attribute 'relevance_'"
     ]
    }
   ],
   "source": [
    "import numpy as np\n",
    "from skrvm import RVC\n",
    "\n",
    "X = [[0, 0], [1, 1], [0, 1]]\n",
    "y = [0, 1, 2]\n",
    "\n",
    "clf = RVC(n_iter=3, verbose=True)\n",
    "clf.fit(X, y)  \n",
    "\n",
    "clf.get_params()\n",
    "print clf.predict_proba(np.reshape([0, 1], (1, 2)))\n"
   ]
  },
  {
   "cell_type": "code",
   "execution_count": null,
   "metadata": {
    "collapsed": true
   },
   "outputs": [],
   "source": []
  }
 ],
 "metadata": {
  "kernelspec": {
   "display_name": "Python [conda root]",
   "language": "python",
   "name": "conda-root-py"
  },
  "language_info": {
   "codemirror_mode": {
    "name": "ipython",
    "version": 2
   },
   "file_extension": ".py",
   "mimetype": "text/x-python",
   "name": "python",
   "nbconvert_exporter": "python",
   "pygments_lexer": "ipython2",
   "version": "2.7.13"
  }
 },
 "nbformat": 4,
 "nbformat_minor": 2
}
