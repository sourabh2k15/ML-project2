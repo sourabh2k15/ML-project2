{
 "cells": [
  {
   "cell_type": "code",
   "execution_count": 32,
   "metadata": {},
   "outputs": [
    {
     "name": "stdout",
     "output_type": "stream",
     "text": [
      "N: 25000\n",
      "D: 60\n",
      "sample input \n",
      "\n",
      "[ 0.015625    0.01302083  0.0703125   0.015625    0.03645833  0.03385417\n",
      "  0.1640625   0.03645833  0.03125     0.03125     0.140625    0.03125\n",
      "  0.01041667  0.01041667  0.046875    0.01041667  0.          0.          0.\n",
      "  0.          0.03125     0.02864583  0.1953125   0.02864583  0.07291667\n",
      "  0.0703125   0.45572917  0.0703125   0.06770833  0.06510417  0.47395833\n",
      "  0.07291667  0.04427083  0.04166667  0.3828125   0.046875    0.02083333\n",
      "  0.02083333  0.2109375   0.01822917  0.015625    0.015625    0.125\n",
      "  0.01302083  0.03645833  0.03645833  0.29166667  0.03385417  0.03645833\n",
      "  0.03385417  0.33333333  0.04166667  0.03385417  0.03125     0.3359375\n",
      "  0.03645833  0.02083333  0.02083333  0.2109375   0.01822917] \n",
      "\n",
      "Nc: 5\n",
      "sample output: \n",
      "\n",
      "[ 1 -1 -1 -1 -1] \n",
      "\n"
     ]
    }
   ],
   "source": [
    "# load input - output data and understand the structure\n",
    "\n",
    "from scipy.io import loadmat\n",
    "\n",
    "inputDataPath  = 'data/Proj2FeatVecsSet1.mat'\n",
    "outputDataPath = 'data/Proj2TargetOutputsSet1.mat'\n",
    "\n",
    "inputData  = loadmat(inputDataPath)\n",
    "outputData = loadmat(outputDataPath)\n",
    "\n",
    "# inputData : we have 25000 samples each of length 60 \n",
    "print 'N:', len(inputData['Proj2FeatVecsSet1'])   # N : number of samples \n",
    "print 'D:', len(inputData['Proj2FeatVecsSet1'][0]) # D : dimensionality of each sample\n",
    "print 'sample input \\n\\n',inputData['Proj2FeatVecsSet1'][2], '\\n'\n",
    "\n",
    "\n",
    "# outputData : we have 25000 outputs, each of length 5 as there are 5 classes ( Nc = 5) \n",
    "# example output - [1, -1, -1, -1, -1] , indicates input belongs to class 1 and so on\n",
    "print 'Nc:', len(outputData['Proj2TargetOutputsSet1'][0])  # Nc : number of classes\n",
    "print 'sample output: \\n\\n', outputData['Proj2TargetOutputsSet1'][0], '\\n'\n"
   ]
  },
  {
   "cell_type": "code",
   "execution_count": 50,
   "metadata": {},
   "outputs": [
    {
     "name": "stdout",
     "output_type": "stream",
     "text": [
      "[0 0 0 ..., 4 4 4]\n"
     ]
    },
    {
     "data": {
      "text/plain": [
       "0.93999999999999995"
      ]
     },
     "execution_count": 50,
     "metadata": {},
     "output_type": "execute_result"
    }
   ],
   "source": [
    "# SVM experiments\n",
    "import numpy as np\n",
    "\n",
    "from sklearn import svm\n",
    "from sklearn.model_selection import train_test_split\n",
    "\n",
    "X = inputData['Proj2FeatVecsSet1']\n",
    "\n",
    "# tranforming output from [-1, -1, 1, -1, -1] to 2 ( actual class labels which are 0 - 4)\n",
    "outputVec = outputData['Proj2TargetOutputsSet1']\n",
    "Y = np.array([np.where(output == 1)[0][0] for output in outputVec])\n",
    "\n",
    "X_train, X_test, y_train, y_test = train_test_split(X, Y, test_size=0.2, random_state=0)\n",
    "\n",
    "print Y\n",
    "\n",
    "clf = svm.SVC(decision_function_shape='ovo')\n",
    "clf.fit(X_train, y_train)\n",
    "\n",
    "clf.score(X_test, y_test)  \n"
   ]
  },
  {
   "cell_type": "code",
   "execution_count": 49,
   "metadata": {},
   "outputs": [
    {
     "name": "stdout",
     "output_type": "stream",
     "text": [
      "[[-7.20299561  0.50701097 -6.01779941 -2.53353099  7.76967467  0.41779312\n",
      "   3.62247706 -7.00182477 -6.7013792   3.82345386]]\n"
     ]
    }
   ],
   "source": [
    "dec = clf.decision_function([[1]*60]) # dummy input to test trained SVM\n",
    "print dec"
   ]
  },
  {
   "cell_type": "code",
   "execution_count": 39,
   "metadata": {},
   "outputs": [
    {
     "name": "stdout",
     "output_type": "stream",
     "text": [
      "0\n"
     ]
    }
   ],
   "source": [
    "# random experiments to learn numpy\n",
    "import numpy as np\n",
    "\n",
    "a = [1,-1,-1,-1,-1]\n",
    "arr = np.array(a)\n",
    "\n",
    "print np.where(arr==1)[0][0]"
   ]
  },
  {
   "cell_type": "code",
   "execution_count": null,
   "metadata": {
    "collapsed": true
   },
   "outputs": [],
   "source": []
  }
 ],
 "metadata": {
  "kernelspec": {
   "display_name": "Python [default]",
   "language": "python",
   "name": "python2"
  },
  "language_info": {
   "codemirror_mode": {
    "name": "ipython",
    "version": 2
   },
   "file_extension": ".py",
   "mimetype": "text/x-python",
   "name": "python",
   "nbconvert_exporter": "python",
   "pygments_lexer": "ipython2",
   "version": "2.7.13"
  }
 },
 "nbformat": 4,
 "nbformat_minor": 2
}
